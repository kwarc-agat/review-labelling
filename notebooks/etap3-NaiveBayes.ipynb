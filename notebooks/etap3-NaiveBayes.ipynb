{
 "cells": [
  {
   "cell_type": "code",
   "execution_count": 2,
   "metadata": {},
   "outputs": [
    {
     "name": "stderr",
     "output_type": "stream",
     "text": [
      "C:\\Users\\kwarc\\AppData\\Roaming\\Python\\Python37\\site-packages\\sklearn\\utils\\deprecation.py:143: FutureWarning: The sklearn.feature_extraction.stop_words module is  deprecated in version 0.22 and will be removed in version 0.24. The corresponding classes / functions should instead be imported from sklearn.feature_extraction.text. Anything that cannot be imported from sklearn.feature_extraction.text is now part of the private API.\n",
      "  warnings.warn(message, FutureWarning)\n"
     ]
    }
   ],
   "source": [
    "import pandas as pd\n",
    "import matplotlib.pyplot as plt\n",
    "import pickle\n",
    "import numpy as np\n",
    "from sklearn.feature_extraction.text import CountVectorizer, TfidfTransformer\n",
    "from sklearn.feature_extraction import stop_words\n",
    "from sklearn.naive_bayes import MultinomialNB, GaussianNB, ComplementNB, BernoulliNB\n",
    "from sklearn.svm import SVC\n",
    "from sklearn.linear_model import SGDClassifier\n",
    "from sklearn.model_selection import train_test_split, GridSearchCV, cross_val_score, cross_val_predict\n",
    "from sklearn import metrics\n",
    "from sklearn.metrics import make_scorer, accuracy_score, precision_score, recall_score, f1_score\n",
    "from sklearn.ensemble import BaggingClassifier"
   ]
  },
  {
   "cell_type": "markdown",
   "metadata": {},
   "source": [
    "## Data loading"
   ]
  },
  {
   "cell_type": "code",
   "execution_count": 3,
   "metadata": {},
   "outputs": [
    {
     "data": {
      "text/html": [
       "<div>\n",
       "<style scoped>\n",
       "    .dataframe tbody tr th:only-of-type {\n",
       "        vertical-align: middle;\n",
       "    }\n",
       "\n",
       "    .dataframe tbody tr th {\n",
       "        vertical-align: top;\n",
       "    }\n",
       "\n",
       "    .dataframe thead th {\n",
       "        text-align: right;\n",
       "    }\n",
       "</style>\n",
       "<table border=\"1\" class=\"dataframe\">\n",
       "  <thead>\n",
       "    <tr style=\"text-align: right;\">\n",
       "      <th></th>\n",
       "      <th>review</th>\n",
       "      <th>rating</th>\n",
       "      <th>label3</th>\n",
       "      <th>label4</th>\n",
       "    </tr>\n",
       "  </thead>\n",
       "  <tbody>\n",
       "    <tr>\n",
       "      <th>0</th>\n",
       "      <td>in my opinion , a movie reviewer's most import...</td>\n",
       "      <td>0.1</td>\n",
       "      <td>0</td>\n",
       "      <td>0</td>\n",
       "    </tr>\n",
       "    <tr>\n",
       "      <th>1</th>\n",
       "      <td>you can watch this movie , that is based on a ...</td>\n",
       "      <td>0.2</td>\n",
       "      <td>0</td>\n",
       "      <td>0</td>\n",
       "    </tr>\n",
       "    <tr>\n",
       "      <th>2</th>\n",
       "      <td>this is asking a lot to believe , and though i...</td>\n",
       "      <td>0.2</td>\n",
       "      <td>0</td>\n",
       "      <td>0</td>\n",
       "    </tr>\n",
       "    <tr>\n",
       "      <th>3</th>\n",
       "      <td>no heroes and no story are the main attributes...</td>\n",
       "      <td>0.2</td>\n",
       "      <td>0</td>\n",
       "      <td>0</td>\n",
       "    </tr>\n",
       "    <tr>\n",
       "      <th>4</th>\n",
       "      <td>this is not an art movie , yet i saw it an art...</td>\n",
       "      <td>0.2</td>\n",
       "      <td>0</td>\n",
       "      <td>0</td>\n",
       "    </tr>\n",
       "    <tr>\n",
       "      <th>...</th>\n",
       "      <td>...</td>\n",
       "      <td>...</td>\n",
       "      <td>...</td>\n",
       "      <td>...</td>\n",
       "    </tr>\n",
       "    <tr>\n",
       "      <th>5001</th>\n",
       "      <td>the conventional wisdom is that movie sequels ...</td>\n",
       "      <td>0.9</td>\n",
       "      <td>2</td>\n",
       "      <td>3</td>\n",
       "    </tr>\n",
       "    <tr>\n",
       "      <th>5002</th>\n",
       "      <td>nicolas roeg's mesmerizing 1971 film walkabout...</td>\n",
       "      <td>0.9</td>\n",
       "      <td>2</td>\n",
       "      <td>3</td>\n",
       "    </tr>\n",
       "    <tr>\n",
       "      <th>5003</th>\n",
       "      <td>the movie air force one should require a docto...</td>\n",
       "      <td>0.9</td>\n",
       "      <td>2</td>\n",
       "      <td>3</td>\n",
       "    </tr>\n",
       "    <tr>\n",
       "      <th>5004</th>\n",
       "      <td>\" well , jones , at least you haven't forgotte...</td>\n",
       "      <td>0.9</td>\n",
       "      <td>2</td>\n",
       "      <td>3</td>\n",
       "    </tr>\n",
       "    <tr>\n",
       "      <th>5005</th>\n",
       "      <td>in a time of bloated productions where special...</td>\n",
       "      <td>0.9</td>\n",
       "      <td>2</td>\n",
       "      <td>3</td>\n",
       "    </tr>\n",
       "  </tbody>\n",
       "</table>\n",
       "<p>5006 rows × 4 columns</p>\n",
       "</div>"
      ],
      "text/plain": [
       "                                                 review  rating  label3  \\\n",
       "0     in my opinion , a movie reviewer's most import...     0.1       0   \n",
       "1     you can watch this movie , that is based on a ...     0.2       0   \n",
       "2     this is asking a lot to believe , and though i...     0.2       0   \n",
       "3     no heroes and no story are the main attributes...     0.2       0   \n",
       "4     this is not an art movie , yet i saw it an art...     0.2       0   \n",
       "...                                                 ...     ...     ...   \n",
       "5001  the conventional wisdom is that movie sequels ...     0.9       2   \n",
       "5002  nicolas roeg's mesmerizing 1971 film walkabout...     0.9       2   \n",
       "5003  the movie air force one should require a docto...     0.9       2   \n",
       "5004  \" well , jones , at least you haven't forgotte...     0.9       2   \n",
       "5005  in a time of bloated productions where special...     0.9       2   \n",
       "\n",
       "      label4  \n",
       "0          0  \n",
       "1          0  \n",
       "2          0  \n",
       "3          0  \n",
       "4          0  \n",
       "...      ...  \n",
       "5001       3  \n",
       "5002       3  \n",
       "5003       3  \n",
       "5004       3  \n",
       "5005       3  \n",
       "\n",
       "[5006 rows x 4 columns]"
      ]
     },
     "execution_count": 3,
     "metadata": {},
     "output_type": "execute_result"
    }
   ],
   "source": [
    "df = pd.read_csv('dataset.csv')\n",
    "df"
   ]
  },
  {
   "cell_type": "markdown",
   "metadata": {},
   "source": [
    "## Feature extraction"
   ]
  },
  {
   "cell_type": "code",
   "execution_count": 4,
   "metadata": {},
   "outputs": [
    {
     "data": {
      "text/plain": [
       "<5006x41631 sparse matrix of type '<class 'numpy.int64'>'\n",
       "\twith 759861 stored elements in Compressed Sparse Row format>"
      ]
     },
     "execution_count": 4,
     "metadata": {},
     "output_type": "execute_result"
    }
   ],
   "source": [
    "vectorizer = CountVectorizer(stop_words=stop_words.ENGLISH_STOP_WORDS)\n",
    "X_counts = vectorizer.fit_transform(df['review'].values)\n",
    "X_counts"
   ]
  },
  {
   "cell_type": "code",
   "execution_count": 5,
   "metadata": {},
   "outputs": [
    {
     "data": {
      "text/plain": [
       "<5006x41631 sparse matrix of type '<class 'numpy.float64'>'\n",
       "\twith 759861 stored elements in Compressed Sparse Row format>"
      ]
     },
     "execution_count": 5,
     "metadata": {},
     "output_type": "execute_result"
    }
   ],
   "source": [
    "tf_transformer = TfidfTransformer(use_idf=False).fit(X_counts)\n",
    "X_tf = tf_transformer.transform(X_counts)\n",
    "X_tf"
   ]
  },
  {
   "cell_type": "markdown",
   "metadata": {},
   "source": [
    "## Training data"
   ]
  },
  {
   "cell_type": "code",
   "execution_count": 6,
   "metadata": {},
   "outputs": [],
   "source": [
    "Y_label3 = df['label3'].values\n",
    "Y_label3_names = np.unique(Y_label3).tolist()"
   ]
  },
  {
   "cell_type": "markdown",
   "metadata": {},
   "source": [
    "## Naive Bayes - auto"
   ]
  },
  {
   "cell_type": "code",
   "execution_count": 7,
   "metadata": {},
   "outputs": [
    {
     "name": "stdout",
     "output_type": "stream",
     "text": [
      "Using CountVectorizer\n",
      "[0.60479042 0.500998   0.51896208 0.6506986  0.62075848 0.55688623\n",
      " 0.584      0.568      0.63       0.602     ]\n",
      "Accuracy: 0.58 (+/- 0.09)\n",
      "Using TfidfVectorizer\n",
      "[0.56287425 0.44111776 0.6247505  0.57884232 0.49700599 0.52694611\n",
      " 0.512      0.562      0.544      0.51      ]\n",
      "Accuracy: 0.54 (+/- 0.10)\n"
     ]
    }
   ],
   "source": [
    "clf_nb_counts = cross_val_score(MultinomialNB(), X_counts, Y_label3, cv=10)\n",
    "clf_nb_tf = cross_val_score(MultinomialNB(), X_tf, Y_label3, cv=10)\n",
    "print(\"Using CountVectorizer\")\n",
    "print(clf_nb_counts)\n",
    "print(\"Accuracy: %0.2f (+/- %0.2f)\" % (clf_nb_counts.mean(), clf_nb_counts.std() * 2))\n",
    "print(\"Using TfidfVectorizer\")\n",
    "print(clf_nb_tf)\n",
    "print(\"Accuracy: %0.2f (+/- %0.2f)\" % (clf_nb_tf.mean(), clf_nb_tf.std() * 2))"
   ]
  },
  {
   "cell_type": "markdown",
   "metadata": {},
   "source": [
    "## Naive Bayes - Grid Search"
   ]
  },
  {
   "cell_type": "code",
   "execution_count": 8,
   "metadata": {},
   "outputs": [],
   "source": [
    "tuned_parameters ={'alpha': [0.01, 0.1, 0.5, 1.0, 10.0]}\n",
    "scoring = {'accuracy': make_scorer(accuracy_score),\n",
    "           'precision': make_scorer(precision_score, average = 'macro'),\n",
    "           'recall': make_scorer(recall_score, average = 'macro'),\n",
    "           'f1': make_scorer(f1_score, average = 'macro')}\n",
    "clf = GridSearchCV(MultinomialNB(), tuned_parameters, scoring=scoring,\n",
    "                  cv=10, verbose=3, refit='f1')"
   ]
  },
  {
   "cell_type": "code",
   "execution_count": 11,
   "metadata": {},
   "outputs": [
    {
     "name": "stdout",
     "output_type": "stream",
     "text": [
      "Fitting 10 folds for each of 5 candidates, totalling 50 fits\n",
      "[CV] alpha=0.01 ......................................................\n",
      "[CV]  alpha=0.01, accuracy=0.555, f1=0.555, precision=0.558, recall=0.551, total=   0.0s\n",
      "[CV] alpha=0.01 ......................................................\n",
      "[CV]  alpha=0.01, accuracy=0.471, f1=0.465, precision=0.490, recall=0.459, total=   0.0s\n",
      "[CV] alpha=0.01 ......................................................\n",
      "[CV]  alpha=0.01, accuracy=0.515, f1=0.489, precision=0.502, recall=0.485, total=   0.0s\n",
      "[CV] alpha=0.01 ......................................................\n",
      "[CV]  alpha=0.01, accuracy=0.619, f1=0.599, precision=0.626, recall=0.593, total=   0.0s\n",
      "[CV] alpha=0.01 ......................................................\n",
      "[CV]  alpha=0.01, accuracy=0.569, f1=0.552, precision=0.632, recall=0.542, total=   0.0s\n",
      "[CV] alpha=0.01 ......................................................\n",
      "[CV]  alpha=0.01, accuracy=0.523, f1=0.501, precision=0.521, recall=0.498, total=   0.0s\n",
      "[CV] alpha=0.01 ......................................................\n",
      "[CV]  alpha=0.01, accuracy=0.530, f1=0.529, precision=0.538, recall=0.523, total=   0.0s\n",
      "[CV] alpha=0.01 ......................................................\n"
     ]
    },
    {
     "name": "stderr",
     "output_type": "stream",
     "text": [
      "[Parallel(n_jobs=1)]: Using backend SequentialBackend with 1 concurrent workers.\n",
      "[Parallel(n_jobs=1)]: Done   1 out of   1 | elapsed:    0.0s remaining:    0.0s\n",
      "[Parallel(n_jobs=1)]: Done   2 out of   2 | elapsed:    0.0s remaining:    0.0s\n"
     ]
    },
    {
     "name": "stdout",
     "output_type": "stream",
     "text": [
      "[CV]  alpha=0.01, accuracy=0.534, f1=0.534, precision=0.538, recall=0.543, total=   0.0s\n",
      "[CV] alpha=0.01 ......................................................\n",
      "[CV]  alpha=0.01, accuracy=0.560, f1=0.552, precision=0.555, recall=0.549, total=   0.0s\n",
      "[CV] alpha=0.01 ......................................................\n",
      "[CV]  alpha=0.01, accuracy=0.562, f1=0.550, precision=0.554, recall=0.555, total=   0.0s\n",
      "[CV] alpha=0.1 .......................................................\n",
      "[CV]  alpha=0.1, accuracy=0.559, f1=0.560, precision=0.560, recall=0.562, total=   0.0s\n",
      "[CV] alpha=0.1 .......................................................\n",
      "[CV]  alpha=0.1, accuracy=0.507, f1=0.509, precision=0.521, recall=0.506, total=   0.0s\n",
      "[CV] alpha=0.1 .......................................................\n",
      "[CV]  alpha=0.1, accuracy=0.497, f1=0.482, precision=0.491, recall=0.477, total=   0.0s\n",
      "[CV] alpha=0.1 .......................................................\n",
      "[CV]  alpha=0.1, accuracy=0.649, f1=0.635, precision=0.655, recall=0.628, total=   0.0s\n",
      "[CV] alpha=0.1 .......................................................\n",
      "[CV]  alpha=0.1, accuracy=0.611, f1=0.605, precision=0.650, recall=0.593, total=   0.0s\n",
      "[CV] alpha=0.1 .......................................................\n",
      "[CV]  alpha=0.1, accuracy=0.523, f1=0.513, precision=0.527, recall=0.507, total=   0.0s\n",
      "[CV] alpha=0.1 .......................................................\n",
      "[CV]  alpha=0.1, accuracy=0.536, f1=0.538, precision=0.539, recall=0.537, total=   0.0s\n",
      "[CV] alpha=0.1 .......................................................\n",
      "[CV]  alpha=0.1, accuracy=0.522, f1=0.524, precision=0.548, recall=0.547, total=   0.0s\n",
      "[CV] alpha=0.1 .......................................................\n",
      "[CV]  alpha=0.1, accuracy=0.580, f1=0.574, precision=0.571, recall=0.578, total=   0.0s\n",
      "[CV] alpha=0.1 .......................................................\n",
      "[CV]  alpha=0.1, accuracy=0.572, f1=0.558, precision=0.559, recall=0.574, total=   0.0s\n",
      "[CV] alpha=0.5 .......................................................\n",
      "[CV]  alpha=0.5, accuracy=0.571, f1=0.572, precision=0.571, recall=0.577, total=   0.0s\n",
      "[CV] alpha=0.5 .......................................................\n",
      "[CV]  alpha=0.5, accuracy=0.507, f1=0.508, precision=0.524, recall=0.504, total=   0.0s\n",
      "[CV] alpha=0.5 .......................................................\n",
      "[CV]  alpha=0.5, accuracy=0.519, f1=0.506, precision=0.514, recall=0.500, total=   0.0s\n",
      "[CV] alpha=0.5 .......................................................\n",
      "[CV]  alpha=0.5, accuracy=0.673, f1=0.661, precision=0.683, recall=0.655, total=   0.0s\n",
      "[CV] alpha=0.5 .......................................................\n",
      "[CV]  alpha=0.5, accuracy=0.625, f1=0.623, precision=0.661, recall=0.611, total=   0.0s\n",
      "[CV] alpha=0.5 .......................................................\n",
      "[CV]  alpha=0.5, accuracy=0.539, f1=0.533, precision=0.548, recall=0.527, total=   0.0s\n",
      "[CV] alpha=0.5 .......................................................\n",
      "[CV]  alpha=0.5, accuracy=0.572, f1=0.576, precision=0.579, recall=0.576, total=   0.0s\n",
      "[CV] alpha=0.5 .......................................................\n",
      "[CV]  alpha=0.5, accuracy=0.544, f1=0.547, precision=0.568, recall=0.567, total=   0.0s\n",
      "[CV] alpha=0.5 .......................................................\n",
      "[CV]  alpha=0.5, accuracy=0.610, f1=0.607, precision=0.605, recall=0.610, total=   0.0s\n",
      "[CV] alpha=0.5 .......................................................\n",
      "[CV]  alpha=0.5, accuracy=0.596, f1=0.582, precision=0.584, recall=0.597, total=   0.0s\n",
      "[CV] alpha=1.0 .......................................................\n",
      "[CV]  alpha=1.0, accuracy=0.605, f1=0.602, precision=0.608, recall=0.598, total=   0.0s\n",
      "[CV] alpha=1.0 .......................................................\n",
      "[CV]  alpha=1.0, accuracy=0.501, f1=0.492, precision=0.527, recall=0.487, total=   0.0s\n",
      "[CV] alpha=1.0 .......................................................\n",
      "[CV]  alpha=1.0, accuracy=0.519, f1=0.489, precision=0.499, recall=0.485, total=   0.0s\n",
      "[CV] alpha=1.0 .......................................................\n",
      "[CV]  alpha=1.0, accuracy=0.651, f1=0.618, precision=0.677, recall=0.615, total=   0.0s\n",
      "[CV] alpha=1.0 .......................................................\n",
      "[CV]  alpha=1.0, accuracy=0.621, f1=0.608, precision=0.671, recall=0.596, total=   0.0s\n",
      "[CV] alpha=1.0 .......................................................\n",
      "[CV]  alpha=1.0, accuracy=0.557, f1=0.548, precision=0.576, recall=0.539, total=   0.0s\n",
      "[CV] alpha=1.0 .......................................................\n",
      "[CV]  alpha=1.0, accuracy=0.584, f1=0.585, precision=0.598, recall=0.577, total=   0.0s\n",
      "[CV] alpha=1.0 .......................................................\n",
      "[CV]  alpha=1.0, accuracy=0.568, f1=0.570, precision=0.581, recall=0.581, total=   0.0s\n",
      "[CV] alpha=1.0 .......................................................\n",
      "[CV]  alpha=1.0, accuracy=0.630, f1=0.622, precision=0.628, recall=0.619, total=   0.0s\n",
      "[CV] alpha=1.0 .......................................................\n",
      "[CV]  alpha=1.0, accuracy=0.602, f1=0.581, precision=0.598, recall=0.590, total=   0.0s\n",
      "[CV] alpha=10.0 ......................................................\n",
      "[CV]  alpha=10.0, accuracy=0.535, f1=0.399, precision=0.349, recall=0.470, total=   0.0s\n",
      "[CV] alpha=10.0 ......................................................\n",
      "[CV]  alpha=10.0, accuracy=0.417, f1=0.304, precision=0.266, recall=0.367, total=   0.0s\n",
      "[CV] alpha=10.0 ......................................................\n",
      "[CV]  alpha=10.0, accuracy=0.601, f1=0.453, precision=0.399, recall=0.527, total=   0.0s\n",
      "[CV] alpha=10.0 ......................................................\n",
      "[CV]  alpha=10.0, accuracy=0.517, f1=0.372, precision=0.332, recall=0.454, total=   0.0s\n",
      "[CV] alpha=10.0 ......................................................\n",
      "[CV]  alpha=10.0, accuracy=0.463, f1=0.339, precision=0.296, recall=0.406, total=   0.0s\n",
      "[CV] alpha=10.0 ......................................................\n",
      "[CV]  alpha=10.0, accuracy=0.507, f1=0.378, precision=0.332, recall=0.445, total=   0.0s\n",
      "[CV] alpha=10.0 ......................................................\n",
      "[CV]  alpha=10.0, accuracy=0.528, f1=0.393, precision=0.345, recall=0.464, total=   0.0s\n",
      "[CV] alpha=10.0 ......................................................\n",
      "[CV]  alpha=10.0, accuracy=0.522, f1=0.392, precision=0.345, recall=0.457, total=   0.0s\n",
      "[CV] alpha=10.0 ......................................................\n",
      "[CV]  alpha=10.0, accuracy=0.516, f1=0.386, precision=0.339, recall=0.452, total=   0.0s\n",
      "[CV] alpha=10.0 ......................................................\n",
      "[CV]  alpha=10.0, accuracy=0.454, f1=0.308, precision=0.291, recall=0.399, total=   0.0s\n"
     ]
    },
    {
     "name": "stderr",
     "output_type": "stream",
     "text": [
      "C:\\Users\\kwarc\\AppData\\Roaming\\Python\\Python37\\site-packages\\sklearn\\metrics\\_classification.py:1221: UndefinedMetricWarning: Precision is ill-defined and being set to 0.0 in labels with no predicted samples. Use `zero_division` parameter to control this behavior.\n",
      "  _warn_prf(average, modifier, msg_start, len(result))\n",
      "C:\\Users\\kwarc\\AppData\\Roaming\\Python\\Python37\\site-packages\\sklearn\\metrics\\_classification.py:1221: UndefinedMetricWarning: Precision is ill-defined and being set to 0.0 in labels with no predicted samples. Use `zero_division` parameter to control this behavior.\n",
      "  _warn_prf(average, modifier, msg_start, len(result))\n",
      "C:\\Users\\kwarc\\AppData\\Roaming\\Python\\Python37\\site-packages\\sklearn\\metrics\\_classification.py:1221: UndefinedMetricWarning: Precision is ill-defined and being set to 0.0 in labels with no predicted samples. Use `zero_division` parameter to control this behavior.\n",
      "  _warn_prf(average, modifier, msg_start, len(result))\n",
      "C:\\Users\\kwarc\\AppData\\Roaming\\Python\\Python37\\site-packages\\sklearn\\metrics\\_classification.py:1221: UndefinedMetricWarning: Precision is ill-defined and being set to 0.0 in labels with no predicted samples. Use `zero_division` parameter to control this behavior.\n",
      "  _warn_prf(average, modifier, msg_start, len(result))\n",
      "C:\\Users\\kwarc\\AppData\\Roaming\\Python\\Python37\\site-packages\\sklearn\\metrics\\_classification.py:1221: UndefinedMetricWarning: Precision is ill-defined and being set to 0.0 in labels with no predicted samples. Use `zero_division` parameter to control this behavior.\n",
      "  _warn_prf(average, modifier, msg_start, len(result))\n",
      "C:\\Users\\kwarc\\AppData\\Roaming\\Python\\Python37\\site-packages\\sklearn\\metrics\\_classification.py:1221: UndefinedMetricWarning: Precision is ill-defined and being set to 0.0 in labels with no predicted samples. Use `zero_division` parameter to control this behavior.\n",
      "  _warn_prf(average, modifier, msg_start, len(result))\n",
      "C:\\Users\\kwarc\\AppData\\Roaming\\Python\\Python37\\site-packages\\sklearn\\metrics\\_classification.py:1221: UndefinedMetricWarning: Precision is ill-defined and being set to 0.0 in labels with no predicted samples. Use `zero_division` parameter to control this behavior.\n",
      "  _warn_prf(average, modifier, msg_start, len(result))\n",
      "C:\\Users\\kwarc\\AppData\\Roaming\\Python\\Python37\\site-packages\\sklearn\\metrics\\_classification.py:1221: UndefinedMetricWarning: Precision is ill-defined and being set to 0.0 in labels with no predicted samples. Use `zero_division` parameter to control this behavior.\n",
      "  _warn_prf(average, modifier, msg_start, len(result))\n",
      "C:\\Users\\kwarc\\AppData\\Roaming\\Python\\Python37\\site-packages\\sklearn\\metrics\\_classification.py:1221: UndefinedMetricWarning: Precision is ill-defined and being set to 0.0 in labels with no predicted samples. Use `zero_division` parameter to control this behavior.\n",
      "  _warn_prf(average, modifier, msg_start, len(result))\n",
      "C:\\Users\\kwarc\\AppData\\Roaming\\Python\\Python37\\site-packages\\sklearn\\metrics\\_classification.py:1221: UndefinedMetricWarning: Precision is ill-defined and being set to 0.0 in labels with no predicted samples. Use `zero_division` parameter to control this behavior.\n",
      "  _warn_prf(average, modifier, msg_start, len(result))\n",
      "[Parallel(n_jobs=1)]: Done  50 out of  50 | elapsed:    1.1s finished\n"
     ]
    },
    {
     "data": {
      "text/plain": [
       "GridSearchCV(cv=10, estimator=MultinomialNB(),\n",
       "             param_grid={'alpha': [0.01, 0.1, 0.5, 1.0, 10.0]}, refit='f1',\n",
       "             scoring={'accuracy': make_scorer(accuracy_score),\n",
       "                      'f1': make_scorer(f1_score, average=macro),\n",
       "                      'precision': make_scorer(precision_score, average=macro),\n",
       "                      'recall': make_scorer(recall_score, average=macro)},\n",
       "             verbose=3)"
      ]
     },
     "execution_count": 11,
     "metadata": {},
     "output_type": "execute_result"
    }
   ],
   "source": [
    "clf.fit(X_counts, Y_label3)"
   ]
  },
  {
   "cell_type": "code",
   "execution_count": 60,
   "metadata": {},
   "outputs": [
    {
     "name": "stdout",
     "output_type": "stream",
     "text": [
      "Best parameters set found on development set:\n",
      "{'alpha': 0.5}\n"
     ]
    }
   ],
   "source": [
    "print(\"Best parameters set found on development set:\")\n",
    "print(clf.best_params_)"
   ]
  },
  {
   "cell_type": "code",
   "execution_count": 61,
   "metadata": {},
   "outputs": [
    {
     "name": "stdout",
     "output_type": "stream",
     "text": [
      "Scores\n",
      "[0.57085828 0.50698603 0.51896208 0.67265469 0.6247505  0.53892216\n",
      " 0.572      0.544      0.61       0.596     ]\n",
      "Accuracy: 0.58 (+/- 0.10)\n"
     ]
    }
   ],
   "source": [
    "best_clf = MultinomialNB(alpha=0.5)\n",
    "cvl = cross_val_score(best_clf, X_counts, Y_label3, cv=10)\n",
    "print(\"Scores\")\n",
    "print(cvl)\n",
    "print(\"Accuracy: %0.2f (+/- %0.2f)\" % (cvl.mean(), cvl.std() * 2))"
   ]
  },
  {
   "cell_type": "code",
   "execution_count": null,
   "metadata": {},
   "outputs": [],
   "source": []
  },
  {
   "cell_type": "markdown",
   "metadata": {},
   "source": [
    "## Naive Bayes - different types"
   ]
  },
  {
   "cell_type": "code",
   "execution_count": 41,
   "metadata": {},
   "outputs": [
    {
     "name": "stdout",
     "output_type": "stream",
     "text": [
      "Scores\n",
      "[0.60479042 0.500998   0.51896208 0.6506986  0.62075848 0.55688623\n",
      " 0.584      0.568      0.63       0.602     ]\n",
      "Accuracy: 0.58 (+/- 0.09)\n"
     ]
    }
   ],
   "source": [
    "cvl = cross_val_score(MultinomialNB(), X_counts, Y_label3, cv=10)\n",
    "print(\"Scores\")\n",
    "print(cvl)\n",
    "print(\"Accuracy: %0.2f (+/- %0.2f)\" % (cvl.mean(), cvl.std() * 2))"
   ]
  },
  {
   "cell_type": "code",
   "execution_count": 43,
   "metadata": {},
   "outputs": [
    {
     "name": "stdout",
     "output_type": "stream",
     "text": [
      "Scores\n",
      "[0.5748503  0.50499002 0.51297405 0.65469062 0.61277445 0.52894212\n",
      " 0.548      0.538      0.586      0.574     ]\n",
      "Accuracy: 0.56 (+/- 0.09)\n"
     ]
    }
   ],
   "source": [
    "cvl = cross_val_score(ComplementNB(), X_counts, Y_label3, cv=10)\n",
    "print(\"Scores\")\n",
    "print(cvl)\n",
    "print(\"Accuracy: %0.2f (+/- %0.2f)\" % (cvl.mean(), cvl.std() * 2))"
   ]
  },
  {
   "cell_type": "code",
   "execution_count": 45,
   "metadata": {},
   "outputs": [
    {
     "name": "stdout",
     "output_type": "stream",
     "text": [
      "Scores\n",
      "[0.55888224 0.56087824 0.55888224 0.65469062 0.5748503  0.53892216\n",
      " 0.546      0.552      0.652      0.618     ]\n",
      "Accuracy: 0.58 (+/- 0.08)\n"
     ]
    }
   ],
   "source": [
    "cvl = cross_val_score(BernoulliNB(), X_counts, Y_label3, cv=10)\n",
    "print(\"Scores\")\n",
    "print(cvl)\n",
    "print(\"Accuracy: %0.2f (+/- %0.2f)\" % (cvl.mean(), cvl.std() * 2))"
   ]
  },
  {
   "cell_type": "markdown",
   "metadata": {},
   "source": [
    "## Naive Bayes - different types with TFIDF"
   ]
  },
  {
   "cell_type": "code",
   "execution_count": 46,
   "metadata": {},
   "outputs": [
    {
     "name": "stdout",
     "output_type": "stream",
     "text": [
      "Scores\n",
      "[0.56287425 0.44111776 0.6247505  0.57884232 0.49700599 0.52694611\n",
      " 0.512      0.562      0.544      0.51      ]\n",
      "Accuracy: 0.54 (+/- 0.10)\n"
     ]
    }
   ],
   "source": [
    "cvl = cross_val_score(MultinomialNB(), X_tf, Y_label3, cv=10)\n",
    "print(\"Scores\")\n",
    "print(cvl)\n",
    "print(\"Accuracy: %0.2f (+/- %0.2f)\" % (cvl.mean(), cvl.std() * 2))"
   ]
  },
  {
   "cell_type": "code",
   "execution_count": 47,
   "metadata": {},
   "outputs": [
    {
     "name": "stdout",
     "output_type": "stream",
     "text": [
      "Scores\n",
      "[0.57684631 0.43113772 0.61277445 0.52894212 0.46906188 0.50299401\n",
      " 0.522      0.55       0.54       0.478     ]\n",
      "Accuracy: 0.52 (+/- 0.10)\n"
     ]
    }
   ],
   "source": [
    "cvl = cross_val_score(ComplementNB(), X_tf, Y_label3, cv=10)\n",
    "print(\"Scores\")\n",
    "print(cvl)\n",
    "print(\"Accuracy: %0.2f (+/- %0.2f)\" % (cvl.mean(), cvl.std() * 2))"
   ]
  },
  {
   "cell_type": "code",
   "execution_count": 12,
   "metadata": {},
   "outputs": [
    {
     "name": "stdout",
     "output_type": "stream",
     "text": [
      "Scores\n",
      "[0.55888224 0.56087824 0.55888224 0.65469062 0.5748503  0.53892216\n",
      " 0.546      0.552      0.652      0.618     ]\n",
      "Accuracy: 0.58 (+/- 0.08)\n"
     ]
    }
   ],
   "source": [
    "cvl = cross_val_score(BernoulliNB(), X_tf, Y_label3, cv=10)\n",
    "print(\"Scores\")\n",
    "print(cvl)\n",
    "print(\"Accuracy: %0.2f (+/- %0.2f)\" % (cvl.mean(), cvl.std() * 2))"
   ]
  }
 ],
 "metadata": {
  "kernelspec": {
   "display_name": "Python 3",
   "language": "python",
   "name": "python3"
  },
  "language_info": {
   "codemirror_mode": {
    "name": "ipython",
    "version": 3
   },
   "file_extension": ".py",
   "mimetype": "text/x-python",
   "name": "python",
   "nbconvert_exporter": "python",
   "pygments_lexer": "ipython3",
   "version": "3.7.6"
  }
 },
 "nbformat": 4,
 "nbformat_minor": 4
}
